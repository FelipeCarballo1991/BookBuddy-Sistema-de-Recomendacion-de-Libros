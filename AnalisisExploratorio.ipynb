{
 "cells": [
  {
   "cell_type": "code",
   "execution_count": 105,
   "metadata": {},
   "outputs": [],
   "source": [
    "import pandas as pd\n",
    "import seaborn as sns\n",
    "import matplotlib.pyplot as plt\n",
    "\n",
    "import warnings\n",
    "warnings.filterwarnings('ignore')"
   ]
  },
  {
   "cell_type": "markdown",
   "metadata": {},
   "source": [
    "### APERTURA DE ARCHIVOS"
   ]
  },
  {
   "cell_type": "code",
   "execution_count": 106,
   "metadata": {},
   "outputs": [],
   "source": [
    "books = pd.read_csv(r\".\\Input\\books.csv\")\n",
    "books_tags = pd.read_csv(r\".\\Input\\book_tags.csv\")\n",
    "ratings = pd.read_csv(r\".\\Input\\ratings.csv\") # Usuarios que calificaron libros\n",
    "tags = pd.read_csv(r\".\\Input\\tags.csv\")\n",
    "to_read = pd.read_csv(r\".\\Input\\to_read.csv\") # Usuarios que marcaron libros como \"quiero leer\" (DESCARTADO PARA EL MODELO)\n"
   ]
  },
  {
   "cell_type": "markdown",
   "metadata": {},
   "source": [
    "### Preguntas útiles para orientarse:\n",
    "\n",
    "- ¿Cuántos libros hay? ¿Cuántos usuarios?\n",
    "\n",
    "- ¿Cómo están distribuidos los ratings?\n",
    "\n",
    "- ¿Hay libros con muchísimas o poquísimas puntuaciones?\n",
    "\n",
    "- ¿Qué autores aparecen más?\n",
    "\n"
   ]
  },
  {
   "cell_type": "code",
   "execution_count": 107,
   "metadata": {},
   "outputs": [
    {
     "name": "stdout",
     "output_type": "stream",
     "text": [
      "Cantidad total de libros: 10000\n",
      "Usuarios únicos que marcaron libros como 'para leer': 48871\n",
      "Usuarios únicos que calificaron libros: 53424\n",
      "\n",
      "Interpretación:\n",
      "Hay más usuarios que calificaron libros que los que usan la función 'to read'.\n",
      "Esto es esperable, ya que no todos los usuarios usan todas las funciones de la plataforma.\n",
      "Para construir un sistema de recomendación basado en ratings, trabajaremos principalmente con el dataset ratings.csv.\n"
     ]
    }
   ],
   "source": [
    "# 📊 Análisis general de usuarios y libros\n",
    "\n",
    "cantidad_libros = books[\"book_id\"].nunique()\n",
    "usuarios_to_read = to_read[\"user_id\"].nunique()\n",
    "usuarios_en_ratings = ratings[\"user_id\"].nunique()\n",
    "\n",
    "print(f\"Cantidad total de libros: {cantidad_libros}\")\n",
    "print(f\"Usuarios únicos que marcaron libros como 'para leer': {usuarios_to_read}\")\n",
    "print(f\"Usuarios únicos que calificaron libros: {usuarios_en_ratings}\")\n",
    "\n",
    "# 🔍 Interpretación\n",
    "print(\"\\nInterpretación:\")\n",
    "if usuarios_en_ratings > usuarios_to_read:\n",
    "    print(\"Hay más usuarios que calificaron libros que los que usan la función 'to read'.\")\n",
    "else:\n",
    "    print(\"Hay más usuarios que marcaron libros como 'to read' que los que calificaron.\")\n",
    "\n",
    "print(\"Esto es esperable, ya que no todos los usuarios usan todas las funciones de la plataforma.\")\n",
    "print(\"Para construir un sistema de recomendación basado en ratings, trabajaremos principalmente con el dataset ratings.csv.\")\n"
   ]
  },
  {
   "cell_type": "markdown",
   "metadata": {},
   "source": [
    "##### ¿Cómo están distribuidos los ratings?"
   ]
  },
  {
   "cell_type": "code",
   "execution_count": 108,
   "metadata": {},
   "outputs": [
    {
     "data": {
      "image/png": "[encoded data removed]",
      "text/plain": [
       "<Figure size 800x700 with 1 Axes>"
      ]
     },
     "metadata": {},
     "output_type": "display_data"
    }
   ],
   "source": [
    "import seaborn as sns\n",
    "import matplotlib.pyplot as plt\n",
    "\n",
    "plt.figure(figsize=(8,7))\n",
    "ax = sns.countplot(data=ratings, x=\"rating\", palette=\"viridis\")\n",
    "\n",
    "# Agregar los valores encima de las barras\n",
    "for p in ax.patches:\n",
    "    height = p.get_height()\n",
    "    ax.annotate(f'{height:,.0f}',  # número entero con separador de miles\n",
    "                (p.get_x() + p.get_width() / 2., height),\n",
    "                ha='center', va='bottom',\n",
    "                fontsize=10, color='black', xytext=(0, 5),\n",
    "                textcoords='offset points')\n",
    "\n",
    "plt.title(\"Distribución de ratings\")\n",
    "plt.xlabel(\"Rating\")\n",
    "plt.ylabel(\"Cantidad\")\n",
    "plt.tight_layout()\n",
    "plt.show()\n"
   ]
  },
  {
   "cell_type": "markdown",
   "metadata": {},
   "source": [
    "## TOP 10 de libros mas populares"
   ]
  },
  {
   "cell_type": "code",
   "execution_count": 109,
   "metadata": {},
   "outputs": [
    {
     "data": {
      "text/html": [
       "<div>\n",
       "<style scoped>\n",
       "    .dataframe tbody tr th:only-of-type {\n",
       "        vertical-align: middle;\n",
       "    }\n",
       "\n",
       "    .dataframe tbody tr th {\n",
       "        vertical-align: top;\n",
       "    }\n",
       "\n",
       "    .dataframe thead th {\n",
       "        text-align: right;\n",
       "    }\n",
       "</style>\n",
       "<table border=\"1\" class=\"dataframe\">\n",
       "  <thead>\n",
       "    <tr style=\"text-align: right;\">\n",
       "      <th></th>\n",
       "      <th>title</th>\n",
       "      <th>authors</th>\n",
       "    </tr>\n",
       "  </thead>\n",
       "  <tbody>\n",
       "    <tr>\n",
       "      <th>0</th>\n",
       "      <td>The Hunger Games (The Hunger Games, #1)</td>\n",
       "      <td>Suzanne Collins</td>\n",
       "    </tr>\n",
       "    <tr>\n",
       "      <th>1</th>\n",
       "      <td>Harry Potter and the Sorcerer's Stone (Harry P...</td>\n",
       "      <td>J.K. Rowling, Mary GrandPré</td>\n",
       "    </tr>\n",
       "    <tr>\n",
       "      <th>2</th>\n",
       "      <td>Twilight (Twilight, #1)</td>\n",
       "      <td>Stephenie Meyer</td>\n",
       "    </tr>\n",
       "    <tr>\n",
       "      <th>3</th>\n",
       "      <td>To Kill a Mockingbird</td>\n",
       "      <td>Harper Lee</td>\n",
       "    </tr>\n",
       "    <tr>\n",
       "      <th>4</th>\n",
       "      <td>The Great Gatsby</td>\n",
       "      <td>F. Scott Fitzgerald</td>\n",
       "    </tr>\n",
       "    <tr>\n",
       "      <th>6</th>\n",
       "      <td>The Hobbit</td>\n",
       "      <td>J.R.R. Tolkien</td>\n",
       "    </tr>\n",
       "    <tr>\n",
       "      <th>16</th>\n",
       "      <td>Catching Fire (The Hunger Games, #2)</td>\n",
       "      <td>Suzanne Collins</td>\n",
       "    </tr>\n",
       "    <tr>\n",
       "      <th>17</th>\n",
       "      <td>Harry Potter and the Prisoner of Azkaban (Harr...</td>\n",
       "      <td>J.K. Rowling, Mary GrandPré, Rufus Beck</td>\n",
       "    </tr>\n",
       "    <tr>\n",
       "      <th>19</th>\n",
       "      <td>Mockingjay (The Hunger Games, #3)</td>\n",
       "      <td>Suzanne Collins</td>\n",
       "    </tr>\n",
       "    <tr>\n",
       "      <th>22</th>\n",
       "      <td>Harry Potter and the Chamber of Secrets (Harry...</td>\n",
       "      <td>J.K. Rowling, Mary GrandPré</td>\n",
       "    </tr>\n",
       "  </tbody>\n",
       "</table>\n",
       "</div>"
      ],
      "text/plain": [
       "                                                title  \\\n",
       "0             The Hunger Games (The Hunger Games, #1)   \n",
       "1   Harry Potter and the Sorcerer's Stone (Harry P...   \n",
       "2                             Twilight (Twilight, #1)   \n",
       "3                               To Kill a Mockingbird   \n",
       "4                                    The Great Gatsby   \n",
       "6                                          The Hobbit   \n",
       "16               Catching Fire (The Hunger Games, #2)   \n",
       "17  Harry Potter and the Prisoner of Azkaban (Harr...   \n",
       "19                  Mockingjay (The Hunger Games, #3)   \n",
       "22  Harry Potter and the Chamber of Secrets (Harry...   \n",
       "\n",
       "                                    authors  \n",
       "0                           Suzanne Collins  \n",
       "1               J.K. Rowling, Mary GrandPré  \n",
       "2                           Stephenie Meyer  \n",
       "3                                Harper Lee  \n",
       "4                       F. Scott Fitzgerald  \n",
       "6                            J.R.R. Tolkien  \n",
       "16                          Suzanne Collins  \n",
       "17  J.K. Rowling, Mary GrandPré, Rufus Beck  \n",
       "19                          Suzanne Collins  \n",
       "22              J.K. Rowling, Mary GrandPré  "
      ]
     },
     "execution_count": 109,
     "metadata": {},
     "output_type": "execute_result"
    }
   ],
   "source": [
    "top_books = ratings.groupby(\"book_id\").size().sort_values(ascending=False).head(10)\n",
    "books[books['book_id'].isin(top_books.index)][[\"title\", \"authors\"]]\n"
   ]
  },
  {
   "cell_type": "markdown",
   "metadata": {},
   "source": [
    "## TOP 10 de libros menos populares populares"
   ]
  },
  {
   "cell_type": "code",
   "execution_count": 110,
   "metadata": {},
   "outputs": [
    {
     "data": {
      "text/html": [
       "<div>\n",
       "<style scoped>\n",
       "    .dataframe tbody tr th:only-of-type {\n",
       "        vertical-align: middle;\n",
       "    }\n",
       "\n",
       "    .dataframe tbody tr th {\n",
       "        vertical-align: top;\n",
       "    }\n",
       "\n",
       "    .dataframe thead th {\n",
       "        text-align: right;\n",
       "    }\n",
       "</style>\n",
       "<table border=\"1\" class=\"dataframe\">\n",
       "  <thead>\n",
       "    <tr style=\"text-align: right;\">\n",
       "      <th></th>\n",
       "      <th>title</th>\n",
       "      <th>authors</th>\n",
       "    </tr>\n",
       "  </thead>\n",
       "  <tbody>\n",
       "    <tr>\n",
       "      <th>1934</th>\n",
       "      <td>Kindle Paperwhite User's Guide</td>\n",
       "      <td>Amazon</td>\n",
       "    </tr>\n",
       "    <tr>\n",
       "      <th>7802</th>\n",
       "      <td>Kindle User's Guide</td>\n",
       "      <td>Amazon</td>\n",
       "    </tr>\n",
       "    <tr>\n",
       "      <th>8180</th>\n",
       "      <td>The Batman Chronicles, Vol. 1</td>\n",
       "      <td>Bill Finger, Gardner F. Fox, Bob Kane, Jerry R...</td>\n",
       "    </tr>\n",
       "    <tr>\n",
       "      <th>9259</th>\n",
       "      <td>The Magic (The Secret, #3)</td>\n",
       "      <td>Rhonda Byrne</td>\n",
       "    </tr>\n",
       "    <tr>\n",
       "      <th>9314</th>\n",
       "      <td>The King's Agent</td>\n",
       "      <td>Donna Russo Morin</td>\n",
       "    </tr>\n",
       "    <tr>\n",
       "      <th>9344</th>\n",
       "      <td>Diary ng Panget</td>\n",
       "      <td>HaveYouSeenThisGirL, Jan Irene Villar</td>\n",
       "    </tr>\n",
       "    <tr>\n",
       "      <th>9478</th>\n",
       "      <td>Manga Classics: Les Misérables</td>\n",
       "      <td>Stacy King, SunNeko Lee, Crystal S. Chan, Vict...</td>\n",
       "    </tr>\n",
       "    <tr>\n",
       "      <th>9485</th>\n",
       "      <td>Fifty Shades Duo: Fifty Shades Darker / Fifty ...</td>\n",
       "      <td>E.L. James</td>\n",
       "    </tr>\n",
       "    <tr>\n",
       "      <th>9552</th>\n",
       "      <td>Attack on Titan: No Regrets, Volume 01</td>\n",
       "      <td>Hajime Isayama, Hikaru Suruga, Gan Sunaaku</td>\n",
       "    </tr>\n",
       "    <tr>\n",
       "      <th>9704</th>\n",
       "      <td>The Lake (The Lake Trilogy #1)</td>\n",
       "      <td>AnnaLisa Grant</td>\n",
       "    </tr>\n",
       "  </tbody>\n",
       "</table>\n",
       "</div>"
      ],
      "text/plain": [
       "                                                  title  \\\n",
       "1934                     Kindle Paperwhite User's Guide   \n",
       "7802                                Kindle User's Guide   \n",
       "8180                      The Batman Chronicles, Vol. 1   \n",
       "9259                         The Magic (The Secret, #3)   \n",
       "9314                                   The King's Agent   \n",
       "9344                                    Diary ng Panget   \n",
       "9478                     Manga Classics: Les Misérables   \n",
       "9485  Fifty Shades Duo: Fifty Shades Darker / Fifty ...   \n",
       "9552             Attack on Titan: No Regrets, Volume 01   \n",
       "9704                     The Lake (The Lake Trilogy #1)   \n",
       "\n",
       "                                                authors  \n",
       "1934                                             Amazon  \n",
       "7802                                             Amazon  \n",
       "8180  Bill Finger, Gardner F. Fox, Bob Kane, Jerry R...  \n",
       "9259                                       Rhonda Byrne  \n",
       "9314                                  Donna Russo Morin  \n",
       "9344              HaveYouSeenThisGirL, Jan Irene Villar  \n",
       "9478  Stacy King, SunNeko Lee, Crystal S. Chan, Vict...  \n",
       "9485                                         E.L. James  \n",
       "9552         Hajime Isayama, Hikaru Suruga, Gan Sunaaku  \n",
       "9704                                     AnnaLisa Grant  "
      ]
     },
     "execution_count": 110,
     "metadata": {},
     "output_type": "execute_result"
    }
   ],
   "source": [
    "top_books = ratings.groupby(\"book_id\").size().sort_values(ascending=True).head(10)\n",
    "books[books['book_id'].isin(top_books.index)][[\"title\", \"authors\"]]"
   ]
  },
  {
   "cell_type": "markdown",
   "metadata": {},
   "source": [
    "### TOP 10 Autores con mas libros"
   ]
  },
  {
   "cell_type": "code",
   "execution_count": 113,
   "metadata": {},
   "outputs": [
    {
     "data": {
      "image/png": "[encoded data removed]",
      "text/plain": [
       "<Figure size 1000x600 with 1 Axes>"
      ]
     },
     "metadata": {},
     "output_type": "display_data"
    }
   ],
   "source": [
    "# Top 10 autores con más libros\n",
    "top_autores = books.groupby(\"authors\").size().sort_values(ascending=False).head(10)\n",
    "top_autores = top_autores.reset_index()\n",
    "top_autores.columns = [\"Autor\", \"Cantidad de libros\"]\n",
    "\n",
    "# Gráfico\n",
    "plt.figure(figsize=(10,6))\n",
    "# sns.barplot(data=top_autores, x=\"Cantidad de libros\", y=\"Autor\",  palette=\"mako\")\n",
    "sns.barplot(data=top_autores, x=\"Cantidad de libros\", y=\"Autor\", palette=\"mako\", hue=\"Autor\", legend=False)\n",
    "plt.title(\"📚 Autores con más libros en el dataset\")\n",
    "plt.xlabel(\"Cantidad de libros\")\n",
    "plt.ylabel(\"Autor\")\n",
    "plt.tight_layout()\n",
    "plt.show()\n"
   ]
  },
  {
   "cell_type": "markdown",
   "metadata": {},
   "source": [
    "### Autores más populares (Según cantidad de puntuaciones)"
   ]
  },
  {
   "cell_type": "code",
   "execution_count": 127,
   "metadata": {},
   "outputs": [
    {
     "data": {
      "image/png": "[encoded data removed]",
      "text/plain": [
       "<Figure size 1000x600 with 1 Axes>"
      ]
     },
     "metadata": {},
     "output_type": "display_data"
    }
   ],
   "source": [
    "# Unimos ratings con libros\n",
    "ratings_libros = ratings.merge(books, on=\"book_id\")\n",
    "# Agrupamos por autor\n",
    "top_autores_populares = ratings_libros.groupby(\"authors\").size().sort_values(ascending=False).head(10)\n",
    "top_autores_populares = top_autores_populares.reset_index()\n",
    "top_autores_populares.columns = [\"Autor\", \"Cantidad de puntuaciones\"]\n",
    "\n",
    "# Gráfico\n",
    "plt.figure(figsize=(10,6))\n",
    "# sns.barplot(data=top_autores, x=\"Cantidad de libros\", y=\"Autor\",  palette=\"mako\")\n",
    "sns.barplot(data=top_autores_populares, x=\"Cantidad de puntuaciones\", y=\"Autor\", palette=\"mako\", hue=\"Autor\", legend=False)\n",
    "plt.title(\"📚 Autores más populares\")\n",
    "plt.xlabel(\"Cantidad de puntuaciones\")\n",
    "plt.ylabel(\"Autor\")\n",
    "plt.tight_layout()\n",
    "plt.show()"
   ]
  },
  {
   "cell_type": "markdown",
   "metadata": {},
   "source": [
    "### ¿Cuáles son los libros con mayor promedio de rating?"
   ]
  },
  {
   "cell_type": "code",
   "execution_count": 93,
   "metadata": {},
   "outputs": [
    {
     "data": {
      "text/html": [
       "<div>\n",
       "<style scoped>\n",
       "    .dataframe tbody tr th:only-of-type {\n",
       "        vertical-align: middle;\n",
       "    }\n",
       "\n",
       "    .dataframe tbody tr th {\n",
       "        vertical-align: top;\n",
       "    }\n",
       "\n",
       "    .dataframe thead th {\n",
       "        text-align: right;\n",
       "    }\n",
       "</style>\n",
       "<table border=\"1\" class=\"dataframe\">\n",
       "  <thead>\n",
       "    <tr style=\"text-align: right;\">\n",
       "      <th></th>\n",
       "      <th>title</th>\n",
       "      <th>authors</th>\n",
       "    </tr>\n",
       "  </thead>\n",
       "  <tbody>\n",
       "    <tr>\n",
       "      <th>1787</th>\n",
       "      <td>The Calvin and Hobbes Tenth Anniversary Book</td>\n",
       "      <td>Bill Watterson</td>\n",
       "    </tr>\n",
       "    <tr>\n",
       "      <th>3274</th>\n",
       "      <td>Harry Potter Boxed Set, Books 1-5 (Harry Potte...</td>\n",
       "      <td>J.K. Rowling, Mary GrandPré</td>\n",
       "    </tr>\n",
       "    <tr>\n",
       "      <th>3627</th>\n",
       "      <td>The Complete Calvin and Hobbes</td>\n",
       "      <td>Bill Watterson</td>\n",
       "    </tr>\n",
       "    <tr>\n",
       "      <th>4482</th>\n",
       "      <td>It's a Magical World: A Calvin and Hobbes Coll...</td>\n",
       "      <td>Bill Watterson</td>\n",
       "    </tr>\n",
       "    <tr>\n",
       "      <th>6360</th>\n",
       "      <td>There's Treasure Everywhere: A Calvin and Hobb...</td>\n",
       "      <td>Bill Watterson</td>\n",
       "    </tr>\n",
       "    <tr>\n",
       "      <th>6589</th>\n",
       "      <td>The Authoritative Calvin and Hobbes: A Calvin ...</td>\n",
       "      <td>Bill Watterson</td>\n",
       "    </tr>\n",
       "    <tr>\n",
       "      <th>6919</th>\n",
       "      <td>The Indispensable Calvin and Hobbes</td>\n",
       "      <td>Bill Watterson</td>\n",
       "    </tr>\n",
       "    <tr>\n",
       "      <th>7946</th>\n",
       "      <td>ESV Study Bible</td>\n",
       "      <td>Anonymous, Lane T. Dennis, Wayne A. Grudem</td>\n",
       "    </tr>\n",
       "    <tr>\n",
       "      <th>8977</th>\n",
       "      <td>The Revenge of the Baby-Sat</td>\n",
       "      <td>Bill Watterson</td>\n",
       "    </tr>\n",
       "    <tr>\n",
       "      <th>9565</th>\n",
       "      <td>Attack of the Deranged Mutant Killer Monster S...</td>\n",
       "      <td>Bill Watterson</td>\n",
       "    </tr>\n",
       "  </tbody>\n",
       "</table>\n",
       "</div>"
      ],
      "text/plain": [
       "                                                  title  \\\n",
       "1787       The Calvin and Hobbes Tenth Anniversary Book   \n",
       "3274  Harry Potter Boxed Set, Books 1-5 (Harry Potte...   \n",
       "3627                     The Complete Calvin and Hobbes   \n",
       "4482  It's a Magical World: A Calvin and Hobbes Coll...   \n",
       "6360  There's Treasure Everywhere: A Calvin and Hobb...   \n",
       "6589  The Authoritative Calvin and Hobbes: A Calvin ...   \n",
       "6919                The Indispensable Calvin and Hobbes   \n",
       "7946                                    ESV Study Bible   \n",
       "8977                        The Revenge of the Baby-Sat   \n",
       "9565  Attack of the Deranged Mutant Killer Monster S...   \n",
       "\n",
       "                                         authors  \n",
       "1787                              Bill Watterson  \n",
       "3274                 J.K. Rowling, Mary GrandPré  \n",
       "3627                              Bill Watterson  \n",
       "4482                              Bill Watterson  \n",
       "6360                              Bill Watterson  \n",
       "6589                              Bill Watterson  \n",
       "6919                              Bill Watterson  \n",
       "7946  Anonymous, Lane T. Dennis, Wayne A. Grudem  \n",
       "8977                              Bill Watterson  \n",
       "9565                              Bill Watterson  "
      ]
     },
     "execution_count": 93,
     "metadata": {},
     "output_type": "execute_result"
    }
   ],
   "source": [
    "promedio_ratings = ratings.groupby(\"book_id\")[\"rating\"].mean()\n",
    "top_promedio = promedio_ratings.sort_values(ascending=False).head(10)\n",
    "books[books[\"book_id\"].isin(top_promedio.index)][[\"title\", \"authors\"]]\n"
   ]
  },
  {
   "cell_type": "markdown",
   "metadata": {},
   "source": [
    "### ¿Cuántos libros tienen una calificación promedio superior a 4.5?"
   ]
  },
  {
   "cell_type": "code",
   "execution_count": 95,
   "metadata": {},
   "outputs": [
    {
     "name": "stdout",
     "output_type": "stream",
     "text": [
      "Libros con rating promedio > 4.5: 102\n"
     ]
    }
   ],
   "source": [
    "promedio_ratings = ratings.groupby(\"book_id\")[\"rating\"].mean()\n",
    "libros_top = promedio_ratings[promedio_ratings > 4.5]\n",
    "print(f\"Libros con rating promedio > 4.5: {len(libros_top)}\")"
   ]
  },
  {
   "cell_type": "markdown",
   "metadata": {},
   "source": [
    "### ¿Qué libros tienen el rating promedio más bajo con al menos 50 calificaciones?"
   ]
  },
  {
   "cell_type": "code",
   "execution_count": 96,
   "metadata": {},
   "outputs": [
    {
     "data": {
      "text/html": [
       "<div>\n",
       "<style scoped>\n",
       "    .dataframe tbody tr th:only-of-type {\n",
       "        vertical-align: middle;\n",
       "    }\n",
       "\n",
       "    .dataframe tbody tr th {\n",
       "        vertical-align: top;\n",
       "    }\n",
       "\n",
       "    .dataframe thead th {\n",
       "        text-align: right;\n",
       "    }\n",
       "</style>\n",
       "<table border=\"1\" class=\"dataframe\">\n",
       "  <thead>\n",
       "    <tr style=\"text-align: right;\">\n",
       "      <th></th>\n",
       "      <th>title</th>\n",
       "      <th>authors</th>\n",
       "    </tr>\n",
       "  </thead>\n",
       "  <tbody>\n",
       "    <tr>\n",
       "      <th>1408</th>\n",
       "      <td>The 3 Mistakes of My Life</td>\n",
       "      <td>Chetan Bhagat</td>\n",
       "    </tr>\n",
       "    <tr>\n",
       "      <th>1792</th>\n",
       "      <td>One Night at the Call Center</td>\n",
       "      <td>Chetan Bhagat</td>\n",
       "    </tr>\n",
       "    <tr>\n",
       "      <th>1821</th>\n",
       "      <td>Revolution 2020: Love, Corruption, Ambition</td>\n",
       "      <td>Chetan Bhagat</td>\n",
       "    </tr>\n",
       "    <tr>\n",
       "      <th>3549</th>\n",
       "      <td>The Almost Moon</td>\n",
       "      <td>Alice Sebold</td>\n",
       "    </tr>\n",
       "    <tr>\n",
       "      <th>4044</th>\n",
       "      <td>Half Girlfriend</td>\n",
       "      <td>Chetan Bhagat</td>\n",
       "    </tr>\n",
       "    <tr>\n",
       "      <th>4282</th>\n",
       "      <td>Revenge Wears Prada: The Devil Returns (The De...</td>\n",
       "      <td>Lauren Weisberger</td>\n",
       "    </tr>\n",
       "    <tr>\n",
       "      <th>4990</th>\n",
       "      <td>Can Love Happen Twice?</td>\n",
       "      <td>Ravinder Singh</td>\n",
       "    </tr>\n",
       "    <tr>\n",
       "      <th>7635</th>\n",
       "      <td>Of Course I Love You...! Till I Find Someone B...</td>\n",
       "      <td>Durjoy Datta, Maanvi Ahuja</td>\n",
       "    </tr>\n",
       "    <tr>\n",
       "      <th>8465</th>\n",
       "      <td>ليتها تقرأ</td>\n",
       "      <td>خالد الباتلي</td>\n",
       "    </tr>\n",
       "    <tr>\n",
       "      <th>9020</th>\n",
       "      <td>Lost</td>\n",
       "      <td>Gregory Maguire, Douglas Smith</td>\n",
       "    </tr>\n",
       "  </tbody>\n",
       "</table>\n",
       "</div>"
      ],
      "text/plain": [
       "                                                  title  \\\n",
       "1408                          The 3 Mistakes of My Life   \n",
       "1792                       One Night at the Call Center   \n",
       "1821        Revolution 2020: Love, Corruption, Ambition   \n",
       "3549                                    The Almost Moon   \n",
       "4044                                    Half Girlfriend   \n",
       "4282  Revenge Wears Prada: The Devil Returns (The De...   \n",
       "4990                             Can Love Happen Twice?   \n",
       "7635  Of Course I Love You...! Till I Find Someone B...   \n",
       "8465                                         ليتها تقرأ   \n",
       "9020                                               Lost   \n",
       "\n",
       "                             authors  \n",
       "1408                   Chetan Bhagat  \n",
       "1792                   Chetan Bhagat  \n",
       "1821                   Chetan Bhagat  \n",
       "3549                    Alice Sebold  \n",
       "4044                   Chetan Bhagat  \n",
       "4282               Lauren Weisberger  \n",
       "4990                  Ravinder Singh  \n",
       "7635      Durjoy Datta, Maanvi Ahuja  \n",
       "8465                    خالد الباتلي  \n",
       "9020  Gregory Maguire, Douglas Smith  "
      ]
     },
     "execution_count": 96,
     "metadata": {},
     "output_type": "execute_result"
    }
   ],
   "source": [
    "rating_stats = ratings.groupby(\"book_id\")[\"rating\"].agg([\"mean\", \"count\"])\n",
    "rating_filtrados = rating_stats[rating_stats[\"count\"] >= 50].sort_values(\"mean\").head(10)\n",
    "books[books[\"book_id\"].isin(rating_filtrados.index)][[\"title\", \"authors\"]]\n"
   ]
  }
 ],
 "metadata": {
  "kernelspec": {
   "display_name": ".venv",
   "language": "python",
   "name": "python3"
  },
  "language_info": {
   "codemirror_mode": {
    "name": "ipython",
    "version": 3
   },
   "file_extension": ".py",
   "mimetype": "text/x-python",
   "name": "python",
   "nbconvert_exporter": "python",
   "pygments_lexer": "ipython3",
   "version": "3.10.0"
  }
 },
 "nbformat": 4,
 "nbformat_minor": 2
}
