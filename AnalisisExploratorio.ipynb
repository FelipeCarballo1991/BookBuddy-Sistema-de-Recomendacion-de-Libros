{
 "cells": [
  {
   "cell_type": "code",
   "execution_count": 1,
   "metadata": {},
   "outputs": [],
   "source": [
    "import pandas as pd\n",
    "# import matplotlib\n",
    "# import seaborn"
   ]
  },
  {
   "cell_type": "markdown",
   "metadata": {},
   "source": [
    "### APERTURA DE ARCHIVOS"
   ]
  },
  {
   "cell_type": "code",
   "execution_count": 8,
   "metadata": {},
   "outputs": [],
   "source": [
    "books = pd.read_csv(r\".\\Input\\books.csv\")\n",
    "books_tags = pd.read_csv(r\".\\Input\\book_tags.csv\")\n",
    "ratings = pd.read_csv(r\".\\Input\\ratings.csv\")\n",
    "tags = pd.read_csv(r\".\\Input\\tags.csv\")\n",
    "to_read = pd.read_csv(r\".\\Input\\to_read.csv\")\n"
   ]
  },
  {
   "cell_type": "markdown",
   "metadata": {},
   "source": [
    "### Preguntas útiles para orientarse:\n",
    "\n",
    "- ¿Cuántos libros hay? ¿Cuántos usuarios?\n",
    "\n",
    "- ¿Cómo están distribuidos los ratings?\n",
    "\n",
    "- ¿Qué columnas pueden servir para recomendación?\n",
    "\n",
    "- ¿Hay libros con muchísimas o poquísimas puntuaciones?\n",
    "\n",
    "- ¿Qué autores aparecen más?\n",
    "\n"
   ]
  },
  {
   "cell_type": "code",
   "execution_count": 29,
   "metadata": {},
   "outputs": [
    {
     "name": "stdout",
     "output_type": "stream",
     "text": [
      "Cantidad de libros: 99\n"
     ]
    }
   ],
   "source": [
    "cantidad_libros = books[\"book_id\"].nunique()\n",
    "print(f\"Cantidad de libros: {cantidad_libros}\")"
   ]
  },
  {
   "cell_type": "markdown",
   "metadata": {},
   "source": [
    "## TOP 10 de libros mas populares"
   ]
  },
  {
   "cell_type": "code",
   "execution_count": 16,
   "metadata": {},
   "outputs": [
    {
     "data": {
      "text/html": [
       "<div>\n",
       "<style scoped>\n",
       "    .dataframe tbody tr th:only-of-type {\n",
       "        vertical-align: middle;\n",
       "    }\n",
       "\n",
       "    .dataframe tbody tr th {\n",
       "        vertical-align: top;\n",
       "    }\n",
       "\n",
       "    .dataframe thead th {\n",
       "        text-align: right;\n",
       "    }\n",
       "</style>\n",
       "<table border=\"1\" class=\"dataframe\">\n",
       "  <thead>\n",
       "    <tr style=\"text-align: right;\">\n",
       "      <th></th>\n",
       "      <th>title</th>\n",
       "      <th>authors</th>\n",
       "    </tr>\n",
       "  </thead>\n",
       "  <tbody>\n",
       "    <tr>\n",
       "      <th>1</th>\n",
       "      <td>Harry Potter and the Sorcerer's Stone (Harry P...</td>\n",
       "      <td>J.K. Rowling, Mary GrandPré</td>\n",
       "    </tr>\n",
       "    <tr>\n",
       "      <th>4</th>\n",
       "      <td>The Great Gatsby</td>\n",
       "      <td>F. Scott Fitzgerald</td>\n",
       "    </tr>\n",
       "    <tr>\n",
       "      <th>7</th>\n",
       "      <td>The Catcher in the Rye</td>\n",
       "      <td>J.D. Salinger</td>\n",
       "    </tr>\n",
       "    <tr>\n",
       "      <th>13</th>\n",
       "      <td>Animal Farm</td>\n",
       "      <td>George Orwell</td>\n",
       "    </tr>\n",
       "    <tr>\n",
       "      <th>17</th>\n",
       "      <td>Harry Potter and the Prisoner of Azkaban (Harr...</td>\n",
       "      <td>J.K. Rowling, Mary GrandPré, Rufus Beck</td>\n",
       "    </tr>\n",
       "    <tr>\n",
       "      <th>20</th>\n",
       "      <td>Harry Potter and the Order of the Phoenix (Har...</td>\n",
       "      <td>J.K. Rowling, Mary GrandPré</td>\n",
       "    </tr>\n",
       "    <tr>\n",
       "      <th>22</th>\n",
       "      <td>Harry Potter and the Chamber of Secrets (Harry...</td>\n",
       "      <td>J.K. Rowling, Mary GrandPré</td>\n",
       "    </tr>\n",
       "    <tr>\n",
       "      <th>25</th>\n",
       "      <td>The Da Vinci Code (Robert Langdon, #2)</td>\n",
       "      <td>Dan Brown</td>\n",
       "    </tr>\n",
       "    <tr>\n",
       "      <th>32</th>\n",
       "      <td>Memoirs of a Geisha</td>\n",
       "      <td>Arthur Golden</td>\n",
       "    </tr>\n",
       "    <tr>\n",
       "      <th>54</th>\n",
       "      <td>Brave New World</td>\n",
       "      <td>Aldous Huxley</td>\n",
       "    </tr>\n",
       "  </tbody>\n",
       "</table>\n",
       "</div>"
      ],
      "text/plain": [
       "                                                title  \\\n",
       "1   Harry Potter and the Sorcerer's Stone (Harry P...   \n",
       "4                                    The Great Gatsby   \n",
       "7                              The Catcher in the Rye   \n",
       "13                                        Animal Farm   \n",
       "17  Harry Potter and the Prisoner of Azkaban (Harr...   \n",
       "20  Harry Potter and the Order of the Phoenix (Har...   \n",
       "22  Harry Potter and the Chamber of Secrets (Harry...   \n",
       "25             The Da Vinci Code (Robert Langdon, #2)   \n",
       "32                                Memoirs of a Geisha   \n",
       "54                                    Brave New World   \n",
       "\n",
       "                                    authors  \n",
       "1               J.K. Rowling, Mary GrandPré  \n",
       "4                       F. Scott Fitzgerald  \n",
       "7                             J.D. Salinger  \n",
       "13                            George Orwell  \n",
       "17  J.K. Rowling, Mary GrandPré, Rufus Beck  \n",
       "20              J.K. Rowling, Mary GrandPré  \n",
       "22              J.K. Rowling, Mary GrandPré  \n",
       "25                                Dan Brown  \n",
       "32                            Arthur Golden  \n",
       "54                            Aldous Huxley  "
      ]
     },
     "execution_count": 16,
     "metadata": {},
     "output_type": "execute_result"
    }
   ],
   "source": [
    "top_books = ratings.groupby(\"book_id\").size().sort_values(ascending=False).head(10)\n",
    "books[books['book_id'].isin(top_books.index)][[\"title\", \"authors\"]]\n"
   ]
  }
 ],
 "metadata": {
  "kernelspec": {
   "display_name": ".venv",
   "language": "python",
   "name": "python3"
  },
  "language_info": {
   "codemirror_mode": {
    "name": "ipython",
    "version": 3
   },
   "file_extension": ".py",
   "mimetype": "text/x-python",
   "name": "python",
   "nbconvert_exporter": "python",
   "pygments_lexer": "ipython3",
   "version": "3.10.0"
  }
 },
 "nbformat": 4,
 "nbformat_minor": 2
}
